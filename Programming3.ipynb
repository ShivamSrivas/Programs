{
 "cells": [
  {
   "cell_type": "raw",
   "id": "33f3e887",
   "metadata": {},
   "source": [
    "1.Write a Python Program to Check if a Number is Positive, Negative or Zero?\n",
    "2. Write a Python Program to Check if a Number is Odd or Even?\n",
    "3. Write a Python Program to Check Leap Year?\n",
    "4. Write a Python Program to Check Prime Number?\n",
    "5. Write a Python Program to Print all Prime Numbers in an Interval of 1-10000?"
   ]
  },
  {
   "cell_type": "code",
   "execution_count": null,
   "id": "d480d734",
   "metadata": {},
   "outputs": [],
   "source": [
    "a=int(input())\n",
    "if(a>0):\n",
    "    print(\"no.is positive\")\n",
    "elif(a<0):\n",
    "    print(\"no. is negative\")\n",
    "else:\n",
    "    print(\"no.is zero\")"
   ]
  },
  {
   "cell_type": "code",
   "execution_count": null,
   "id": "7c12a7e5",
   "metadata": {},
   "outputs": [],
   "source": [
    "a=int(input())\n",
    "if(a%2==0):\n",
    "    print(\"no.is even\")\n",
    "else:\n",
    "    print(\"no. is odd\")"
   ]
  },
  {
   "cell_type": "code",
   "execution_count": null,
   "id": "637d3ae5",
   "metadata": {},
   "outputs": [],
   "source": [
    "n = input(\"Please enter year\")\n",
    " \n",
    "year = int (n)\n",
    " \n",
    "if (( year%400 == 0)or (( year%4 == 0 ) and ( year%100 != 0))):\n",
    "    print(\"%d is a Leap Year\" %year)\n",
    "else:\n",
    "    print(\"%d is Not the Leap Year\" %year)"
   ]
  },
  {
   "cell_type": "code",
   "execution_count": null,
   "id": "34f50f2a",
   "metadata": {},
   "outputs": [],
   "source": [
    "a=int(input())\n",
    "count=0;\n",
    "for i in range(1,a*a):\n",
    "    if a%i==0:\n",
    "        count+=1\n",
    "if count<=2:\n",
    "    print(\"prime no.it is\")\n",
    "else:\n",
    "    print(\"not a prime no\")\n",
    "    \n",
    "    "
   ]
  },
  {
   "cell_type": "code",
   "execution_count": 44,
   "id": "84d99036",
   "metadata": {},
   "outputs": [],
   "source": [
    "def fun(b):\n",
    "    for i in range(1,b):\n",
    "        count=0\n",
    "        for j in range(1,i+1):\n",
    "            if i%j==0:\n",
    "                count+=1\n",
    "        if count<=2:\n",
    "            yield(i,\"is the prime no.\")\n",
    "        else:\n",
    "            yield(i,\"not a prime no.\")\n",
    "\n",
    "        "
   ]
  },
  {
   "cell_type": "code",
   "execution_count": 45,
   "id": "40279f60",
   "metadata": {},
   "outputs": [
    {
     "data": {
      "text/plain": [
       "<generator object fun at 0x000001DD19E41F20>"
      ]
     },
     "execution_count": 45,
     "metadata": {},
     "output_type": "execute_result"
    }
   ],
   "source": [
    "fun(100)"
   ]
  },
  {
   "cell_type": "code",
   "execution_count": 46,
   "id": "17cab732",
   "metadata": {},
   "outputs": [
    {
     "name": "stdout",
     "output_type": "stream",
     "text": [
      "(1, 'is the prime')\n",
      "(2, 'is the prime')\n",
      "(3, 'is the prime')\n",
      "(4, 'not a prime no.')\n",
      "(5, 'is the prime')\n",
      "(6, 'not a prime no.')\n",
      "(7, 'is the prime')\n",
      "(8, 'not a prime no.')\n",
      "(9, 'not a prime no.')\n",
      "(10, 'not a prime no.')\n",
      "(11, 'is the prime')\n",
      "(12, 'not a prime no.')\n",
      "(13, 'is the prime')\n",
      "(14, 'not a prime no.')\n",
      "(15, 'not a prime no.')\n",
      "(16, 'not a prime no.')\n",
      "(17, 'is the prime')\n",
      "(18, 'not a prime no.')\n",
      "(19, 'is the prime')\n",
      "(20, 'not a prime no.')\n",
      "(21, 'not a prime no.')\n",
      "(22, 'not a prime no.')\n",
      "(23, 'is the prime')\n",
      "(24, 'not a prime no.')\n",
      "(25, 'not a prime no.')\n",
      "(26, 'not a prime no.')\n",
      "(27, 'not a prime no.')\n",
      "(28, 'not a prime no.')\n",
      "(29, 'is the prime')\n",
      "(30, 'not a prime no.')\n",
      "(31, 'is the prime')\n",
      "(32, 'not a prime no.')\n",
      "(33, 'not a prime no.')\n",
      "(34, 'not a prime no.')\n",
      "(35, 'not a prime no.')\n",
      "(36, 'not a prime no.')\n",
      "(37, 'is the prime')\n",
      "(38, 'not a prime no.')\n",
      "(39, 'not a prime no.')\n",
      "(40, 'not a prime no.')\n",
      "(41, 'is the prime')\n",
      "(42, 'not a prime no.')\n",
      "(43, 'is the prime')\n",
      "(44, 'not a prime no.')\n",
      "(45, 'not a prime no.')\n",
      "(46, 'not a prime no.')\n",
      "(47, 'is the prime')\n",
      "(48, 'not a prime no.')\n",
      "(49, 'not a prime no.')\n",
      "(50, 'not a prime no.')\n",
      "(51, 'not a prime no.')\n",
      "(52, 'not a prime no.')\n",
      "(53, 'is the prime')\n",
      "(54, 'not a prime no.')\n",
      "(55, 'not a prime no.')\n",
      "(56, 'not a prime no.')\n",
      "(57, 'not a prime no.')\n",
      "(58, 'not a prime no.')\n",
      "(59, 'is the prime')\n",
      "(60, 'not a prime no.')\n",
      "(61, 'is the prime')\n",
      "(62, 'not a prime no.')\n",
      "(63, 'not a prime no.')\n",
      "(64, 'not a prime no.')\n",
      "(65, 'not a prime no.')\n",
      "(66, 'not a prime no.')\n",
      "(67, 'is the prime')\n",
      "(68, 'not a prime no.')\n",
      "(69, 'not a prime no.')\n",
      "(70, 'not a prime no.')\n",
      "(71, 'is the prime')\n",
      "(72, 'not a prime no.')\n",
      "(73, 'is the prime')\n",
      "(74, 'not a prime no.')\n",
      "(75, 'not a prime no.')\n",
      "(76, 'not a prime no.')\n",
      "(77, 'not a prime no.')\n",
      "(78, 'not a prime no.')\n",
      "(79, 'is the prime')\n",
      "(80, 'not a prime no.')\n",
      "(81, 'not a prime no.')\n",
      "(82, 'not a prime no.')\n",
      "(83, 'is the prime')\n",
      "(84, 'not a prime no.')\n",
      "(85, 'not a prime no.')\n",
      "(86, 'not a prime no.')\n",
      "(87, 'not a prime no.')\n",
      "(88, 'not a prime no.')\n",
      "(89, 'is the prime')\n",
      "(90, 'not a prime no.')\n",
      "(91, 'not a prime no.')\n",
      "(92, 'not a prime no.')\n",
      "(93, 'not a prime no.')\n",
      "(94, 'not a prime no.')\n",
      "(95, 'not a prime no.')\n",
      "(96, 'not a prime no.')\n",
      "(97, 'is the prime')\n",
      "(98, 'not a prime no.')\n",
      "(99, 'not a prime no.')\n"
     ]
    }
   ],
   "source": [
    "for i in fun(100):\n",
    "    print(i)"
   ]
  },
  {
   "cell_type": "code",
   "execution_count": null,
   "id": "19c3e623",
   "metadata": {},
   "outputs": [],
   "source": []
  }
 ],
 "metadata": {
  "kernelspec": {
   "display_name": "Python 3 (ipykernel)",
   "language": "python",
   "name": "python3"
  },
  "language_info": {
   "codemirror_mode": {
    "name": "ipython",
    "version": 3
   },
   "file_extension": ".py",
   "mimetype": "text/x-python",
   "name": "python",
   "nbconvert_exporter": "python",
   "pygments_lexer": "ipython3",
   "version": "3.9.5"
  }
 },
 "nbformat": 4,
 "nbformat_minor": 5
}
