{
 "cells": [
  {
   "cell_type": "code",
   "execution_count": 36,
   "id": "5ed62b0c",
   "metadata": {},
   "outputs": [],
   "source": [
    "def fac(n):\n",
    "    x=1\n",
    "    for i in range(1,n):\n",
    "        x*=i\n",
    "    fac=n*x\n",
    "    return fac"
   ]
  },
  {
   "cell_type": "code",
   "execution_count": 53,
   "id": "f1e13534",
   "metadata": {},
   "outputs": [],
   "source": [
    "def Table(n):\n",
    "    import pandas as pd\n",
    "    for i in range(1,n+1):\n",
    "        print(n,\"*\",i,\"=\",n*i)"
   ]
  },
  {
   "cell_type": "code",
   "execution_count": null,
   "id": "d532b4e9",
   "metadata": {},
   "outputs": [],
   "source": [
    "def fib(n):\n",
    "    a=1\n",
    "    b=1\n",
    "    while(n!=0):\n",
    "        print(a)\n",
    "        c=a+b\n",
    "        a=b\n",
    "        b=c\n",
    "        n-=1"
   ]
  },
  {
   "cell_type": "code",
   "execution_count": 93,
   "id": "1720ba09",
   "metadata": {},
   "outputs": [],
   "source": [
    "def Arms(n):\n",
    "    k=0\n",
    "    for i in str(n):\n",
    "        k+=int(pow(int(i),3))\n",
    "    if n==k:\n",
    "        print(\"yes its a arm's strong no.\",k)\n",
    "    else:\n",
    "        print(\"No its not a arm's strong no.\",k)"
   ]
  },
  {
   "cell_type": "code",
   "execution_count": 132,
   "id": "c6728e9e",
   "metadata": {},
   "outputs": [],
   "source": [
    "def int_arms(n,b):\n",
    "    for i in range(n,b+1):\n",
    "        k=0\n",
    "        for j in str(i):\n",
    "            k+=pow(int(j),3)\n",
    "        if k==i:\n",
    "            print(i,\"yes its a Arm'strong no.\",k)\n",
    "        else:\n",
    "            print(i,\"no its a Arm'strong no.\",k)\n",
    "            "
   ]
  },
  {
   "cell_type": "code",
   "execution_count": 134,
   "id": "d6921d11",
   "metadata": {},
   "outputs": [],
   "source": [
    "def Naturalnumbersum():\n",
    "    for i in range(n+1):\n",
    "        i+=i\n",
    "    "
   ]
  },
  {
   "cell_type": "code",
   "execution_count": 72,
   "id": "7e795806",
   "metadata": {},
   "outputs": [
    {
     "data": {
      "text/plain": [
       "3"
      ]
     },
     "execution_count": 72,
     "metadata": {},
     "output_type": "execute_result"
    }
   ],
   "source": [
    "Naturalnumbersum()"
   ]
  },
  {
   "cell_type": "code",
   "execution_count": null,
   "id": "a4eea4f9",
   "metadata": {},
   "outputs": [],
   "source": []
  }
 ],
 "metadata": {
  "kernelspec": {
   "display_name": "Python 3 (ipykernel)",
   "language": "python",
   "name": "python3"
  },
  "language_info": {
   "codemirror_mode": {
    "name": "ipython",
    "version": 3
   },
   "file_extension": ".py",
   "mimetype": "text/x-python",
   "name": "python",
   "nbconvert_exporter": "python",
   "pygments_lexer": "ipython3",
   "version": "3.9.7"
  }
 },
 "nbformat": 4,
 "nbformat_minor": 5
}
